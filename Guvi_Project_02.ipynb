{
  "cells": [
    {
      "cell_type": "markdown",
      "metadata": {
        "id": "view-in-github",
        "colab_type": "text"
      },
      "source": [
        "<a href=\"https://colab.research.google.com/github/tejasnikumbh999/Item-Demand-Forecasting---Project/blob/main/Guvi_Project_02.ipynb\" target=\"_parent\"><img src=\"https://colab.research.google.com/assets/colab-badge.svg\" alt=\"Open In Colab\"/></a>"
      ]
    },
    {
      "cell_type": "markdown",
      "source": [
        "#Item Demand Forecasting\n",
        "\n",
        "---\n",
        "\n"
      ],
      "metadata": {
        "id": "uTVosQcUkvY9"
      }
    },
    {
      "cell_type": "markdown",
      "source": [
        "###Problem Statement\n",
        "Demand forecasts are fundamental to plan and deliver products and services. Accurate forecasting of demand can help the manufacturers to maintain appropriate stock which results in reduction in loss due to product not being sold and also reduces the opportunity cost (i.e. higher demand but less availability => opportunity lost). Despite such relevance, manufacturers have difficulty choosing which forecast model is the best for their use case. In this project, historical sales data corresponding to multiple(25) items sold in 10 stores are provided and participants are expected to come up with a best model to predict the future demand for products which results in maximum profit for the manufacturer. In general, the manufacturer incurs a loss of Rs. 10 for each item that is not sold (retention cost) and incurs an opportunity loss of Rs. 3 for excess demand. Predict the demand for the next 3 months at the item level (i.e. all the stores combined).\n"
      ],
      "metadata": {
        "id": "7-69Cny7koUX"
      }
    },
    {
      "cell_type": "markdown",
      "source": [
        "\n",
        "\n",
        "---\n",
        "\n",
        "The end objective of the participant is to produce a model that gives the best profit to the manufacturer (i..e strikes a balance between the opportunity cost and retention cost). Such a model must include the seasonality of the items sold. \n",
        "\n",
        "---\n",
        "\n"
      ],
      "metadata": {
        "id": "g3Ps3sVQvHbv"
      }
    },
    {
      "cell_type": "markdown",
      "metadata": {
        "id": "EOK9rM4S-ovC"
      },
      "source": [
        "#Import packages"
      ]
    },
    {
      "cell_type": "code",
      "execution_count": 142,
      "metadata": {
        "id": "Ub7UNXWoHz4J"
      },
      "outputs": [],
      "source": [
        "import numpy as np\n",
        "import pandas as pd\n",
        "import matplotlib.pyplot as plt\n",
        "import seaborn as sns\n",
        "import plotly.express as px\n",
        "from statsmodels.graphics.tsaplots import plot_acf\n",
        "import warnings\n",
        "import statsmodels.api as sm\n",
        "from sklearn.metrics import r2_score\n",
        "\n",
        "warnings.filterwarnings('ignore')"
      ]
    },
    {
      "cell_type": "markdown",
      "metadata": {
        "id": "wNBvnvxN-j7_"
      },
      "source": [
        "#Load data"
      ]
    },
    {
      "cell_type": "code",
      "execution_count": null,
      "metadata": {
        "id": "tRv10qZeH7L-"
      },
      "outputs": [],
      "source": [
        "data = 'https://raw.githubusercontent.com/tejasnikumbh999/Training-datasets/main/train%202.csv'\n",
        "df = pd.read_csv(data)\n",
        "df.head()"
      ]
    },
    {
      "cell_type": "markdown",
      "metadata": {
        "id": "vlUb5oVL-m_m"
      },
      "source": [
        "#Exploratory Data Analysis (EDA)"
      ]
    },
    {
      "cell_type": "code",
      "source": [
        "df_avg=df.groupby('date',as_index=False)['sales'].sum()\n",
        "df_avg.head()"
      ],
      "metadata": {
        "id": "qIvzuMaH5Kky"
      },
      "execution_count": null,
      "outputs": []
    },
    {
      "cell_type": "code",
      "source": [
        "plt.figure( figsize = ( 20, 10))\n",
        "\n",
        "sns.lineplot( x = 'date',y = 'sales',data = df_avg,label = 'sales')\n",
        "\n",
        "df_avg['moving_average'] = df_avg['sales'].rolling(30).mean()\n",
        "\n",
        "sns.lineplot( x = 'date',y = 'moving_average',data = df_avg,label = 'moving_average')"
      ],
      "metadata": {
        "id": "8DfcArXPn9Ev"
      },
      "execution_count": null,
      "outputs": []
    },
    {
      "cell_type": "code",
      "source": [
        "df.shape"
      ],
      "metadata": {
        "id": "NI5WcDWUfJNS"
      },
      "execution_count": null,
      "outputs": []
    },
    {
      "cell_type": "code",
      "source": [
        "df.size"
      ],
      "metadata": {
        "id": "il8fLHR8fKgK"
      },
      "execution_count": null,
      "outputs": []
    },
    {
      "cell_type": "markdown",
      "source": [
        "- Data has 913000 rows and 4 columns"
      ],
      "metadata": {
        "id": "vCQvt-xrfYjK"
      }
    },
    {
      "cell_type": "code",
      "execution_count": null,
      "metadata": {
        "id": "TYRYEwjWI6b9"
      },
      "outputs": [],
      "source": [
        "df.dtypes"
      ]
    },
    {
      "cell_type": "markdown",
      "metadata": {
        "id": "v5UcRMvBKI8t"
      },
      "source": [
        "- Date is a object type, all other are integer type."
      ]
    },
    {
      "cell_type": "code",
      "execution_count": null,
      "metadata": {
        "id": "d-peTq1aI_gd"
      },
      "outputs": [],
      "source": [
        "df.isnull().sum()"
      ]
    },
    {
      "cell_type": "markdown",
      "metadata": {
        "id": "EGWwQPdDKVdD"
      },
      "source": [
        "- Data has no null value or missing values"
      ]
    },
    {
      "cell_type": "code",
      "execution_count": null,
      "metadata": {
        "id": "MOS2G--3KDmG"
      },
      "outputs": [],
      "source": [
        "df.describe()"
      ]
    },
    {
      "cell_type": "markdown",
      "metadata": {
        "id": "Wu1YCiUxL2SM"
      },
      "source": [
        "- Description of dataset"
      ]
    },
    {
      "cell_type": "code",
      "source": [
        "print(\"Dataset starts at: \",df[\"date\"].min(),\" date and end at \",df[\"date\"].max(),\" date.\")"
      ],
      "metadata": {
        "id": "BE0fVvPlfwbS"
      },
      "execution_count": null,
      "outputs": []
    },
    {
      "cell_type": "markdown",
      "source": [
        "###Time Series Decomposition"
      ],
      "metadata": {
        "id": "nPE2SbmZ1P7w"
      }
    },
    {
      "cell_type": "code",
      "source": [
        "df_plot = df.set_index('date')\n",
        "y = df_plot['sales'].resample('MS').mean() \n",
        "\n",
        "result = sm.tsa.seasonal_decompose(y, model='additive')\n",
        "fig = plt.figure()  \n",
        "fig = result.plot()  \n",
        "fig.set_size_inches(20, 15)"
      ],
      "metadata": {
        "id": "O_MatrIQ0nfY"
      },
      "execution_count": null,
      "outputs": []
    },
    {
      "cell_type": "markdown",
      "source": [
        "- Based on the:\n",
        "\n",
        "1. 1st graph: the dataset is not stationary, it would be easier to have a future prediction simply by taking mean values if it was stationary.\n",
        "2. 2nd graph: there is an increasing trend over time.\n",
        "3. 3rd graph: a repeating pattern is observed, so there is seasonality- moving upwards on July.\n",
        "4. 4th graph: residuals are decomposing randomly around 0, so the series is additive."
      ],
      "metadata": {
        "id": "5N5EWnUP1Sb2"
      }
    },
    {
      "cell_type": "markdown",
      "source": [
        "The end objective of the participant is to produce a model that gives the best profit to the manufacturer (i..e strikes a balance between the opportunity cost and retention cost). Such a model must include the seasonality of the items sold. "
      ],
      "metadata": {
        "id": "VKFsAJ-1vDPA"
      }
    },
    {
      "cell_type": "markdown",
      "metadata": {
        "id": "wOkk0R0D-1Ug"
      },
      "source": [
        "#Feature Engineering"
      ]
    },
    {
      "cell_type": "code",
      "execution_count": 12,
      "metadata": {
        "id": "Zj9s76YHejzA"
      },
      "outputs": [],
      "source": [
        "df['date'] = pd.to_datetime(df['date'])\n",
        "df['day_of_week'] = df.date.dt.dayofweek\n",
        "df['day_of_month'] = df.date.dt.day\n",
        "df['day_of_year'] = df.date.dt.dayofyear\n",
        "df['week_of_year'] = df.date.dt.weekofyear\n",
        "df['month'] = df.date.dt.month\n",
        "df['year'] = df.date.dt.year\n",
        "df[\"is_weekend\"] = df.date.dt.weekday // 5\n",
        "df['is_month_start'] = df.date.dt.is_month_start.astype(int)\n",
        "df['is_month_end'] = df.date.dt.is_month_end.astype(int)"
      ]
    },
    {
      "cell_type": "code",
      "execution_count": 13,
      "metadata": {
        "id": "_C-cZ_UEemzT"
      },
      "outputs": [],
      "source": [
        "#Add the Fiscal Quarters\n",
        "\n",
        "df['Fiscal Quarter'] = pd.PeriodIndex(df['date'], freq='Q-MAR').strftime('%q')\n",
        "df['Fiscal Quarter'] = pd.to_numeric(df['Fiscal Quarter'])\n",
        "\n",
        "##Add the Fiscal Year\n",
        "\n",
        "df['Fiscal Year'] = df['date'].dt.to_period('Q-APR').dt.qyear.apply(lambda x: str(x-1) + \"-\" + str(x))"
      ]
    },
    {
      "cell_type": "code",
      "source": [
        "# Seasonality Features\n",
        "# 0: Winter , 1: Autumn , 2: Summer , 3: Fall\n",
        "\n",
        "df[\"season\"] = np.where(df.month.isin([12,1,2]), 0, 1)\n",
        "df[\"season\"] = np.where(df.month.isin([3,4,5]), 2, df[\"season\"])\n",
        "df[\"season\"] = pd.Series(np.where(df.month.isin([6,7,8,9]), 3, df[\"season\"]))\n",
        "\n",
        "df.head()"
      ],
      "metadata": {
        "id": "HBFnv7juNM4S"
      },
      "execution_count": null,
      "outputs": []
    },
    {
      "cell_type": "markdown",
      "source": [
        "At this point, we add random noise to the variables that we will produce in the sales focus in order to prevent over-learning or to prevent bias. This will add noise prevents over-learning."
      ],
      "metadata": {
        "id": "A0t9EQQknRTj"
      }
    },
    {
      "cell_type": "markdown",
      "source": [
        "- day_of_week - 0 to 6 corresponds to days from Monday to Sunday.\n",
        "- is_weekend - Saturday and Sunday are weekends (represented by 1).\n",
        "- Fiscal Quarter - Year is divided into 4 fiscal quarters.\n",
        "- Fiscal Year - fiscal year from April to March.\n",
        "\n"
      ],
      "metadata": {
        "id": "uQk2V2fRkKNH"
      }
    },
    {
      "cell_type": "markdown",
      "metadata": {
        "id": "DE8z0zf07any"
      },
      "source": [
        "##Average Sales Statistics"
      ]
    },
    {
      "cell_type": "code",
      "execution_count": null,
      "metadata": {
        "id": "LfLEKzq2vjxC"
      },
      "outputs": [],
      "source": [
        "#sales distribution \n",
        "\n",
        "plt.figure(figsize=(15,15))\n",
        "sns.set_style(\"darkgrid\") \n",
        "ax = sns.distplot(df[\"sales\"],kde=True,bins=8,color='green',hist_kws={\"linewidth\": 1,'alpha':0.83,'edgecolor':'#538','hatch':'o'})                     #add edge and hatch\n",
        "ax.set(xlabel='Sales', ylabel='Frequency',title=\"Exponential Distribution\")"
      ]
    },
    {
      "cell_type": "markdown",
      "metadata": {
        "id": "-qvtDbGP86eI"
      },
      "source": [
        "- Sales data follows the Exponential Distribution."
      ]
    },
    {
      "cell_type": "code",
      "execution_count": null,
      "metadata": {
        "id": "w2V1UjHKxUy-"
      },
      "outputs": [],
      "source": [
        "a=df['sales'].mean()\n",
        "b=df['sales'].median()\n",
        "c=df['sales'].std()\n",
        "print(f'1. The mean sales is {a}.\\n')\n",
        "print(f'1. The median sales is {b}.\\n')\n",
        "print(f'1. The standard deviation of sales is {c}.\\n')"
      ]
    },
    {
      "cell_type": "code",
      "execution_count": null,
      "metadata": {
        "id": "ND4mYLJwwQDm"
      },
      "outputs": [],
      "source": [
        "plt.figure(figsize=(15,15))\n",
        "plt.scatter(df[\"date\"],df[\"sales\"], color='green',s=20)\n",
        "plt.title(\"Sales Data Time Series\",fontsize=15)\n",
        "plt.xlabel(\"date\",fontsize=15)\n",
        "plt.ylabel(\"Sales\",fontsize=15)"
      ]
    },
    {
      "cell_type": "code",
      "source": [
        "# Sales statistics per store and item\n",
        "df.groupby([\"store\", \"item\"]).agg({\"sales\": [\"sum\", \"mean\", \"median\", \"std\"]})"
      ],
      "metadata": {
        "id": "cRYgHNhSdazN"
      },
      "execution_count": null,
      "outputs": []
    },
    {
      "cell_type": "code",
      "source": [
        "# Yearly sales statistics per store and item\n",
        "df.groupby([\"store\", \"item\", \"year\"]).agg({\"sales\": [\"sum\", \"mean\", \"median\", \"std\"]})"
      ],
      "metadata": {
        "id": "IUVukak3dzma"
      },
      "execution_count": null,
      "outputs": []
    },
    {
      "cell_type": "code",
      "source": [
        "# Monthly sales statistics per store and item\n",
        "df.groupby([\"store\", \"item\", \"month\"]).agg({\"sales\": [\"sum\", \"mean\", \"median\", \"std\"]})"
      ],
      "metadata": {
        "id": "1PhdWTFLdp1J"
      },
      "execution_count": null,
      "outputs": []
    },
    {
      "cell_type": "markdown",
      "source": [
        "##Features Correlation"
      ],
      "metadata": {
        "id": "VTBpEEvKYcq-"
      }
    },
    {
      "cell_type": "code",
      "source": [
        "plt.figure(figsize=(15,15))\n",
        "cor = df.corr()\n",
        "sns.heatmap(cor,annot=True,square=True,cmap=plt.cm.CMRmap_r)\n",
        "plt.show()"
      ],
      "metadata": {
        "id": "4JTqd_zgYfAf"
      },
      "execution_count": null,
      "outputs": []
    },
    {
      "cell_type": "markdown",
      "metadata": {
        "id": "f3OZhq1k8JhR"
      },
      "source": [
        "##Sales statistics  - Item Wise"
      ]
    },
    {
      "cell_type": "code",
      "execution_count": null,
      "metadata": {
        "id": "LCEsyM9M8JhS"
      },
      "outputs": [],
      "source": [
        "x=int(input('Enter the Item Number (1 to 50) : \\t'))\n",
        "\n",
        "df_it=df.loc[df['item'] == x, ['sales','item']]\n",
        "\n",
        "a=df_it['sales'].mean()\n",
        "b=df_it['sales'].median()\n",
        "c=df_it['sales'].std()\n",
        "print(f'\\n1. The mean sales is {a}.\\n')\n",
        "print(f'1. The median sales is {b}.\\n')\n",
        "print(f'1. The standard daviation of sales is {c}.\\n')"
      ]
    },
    {
      "cell_type": "code",
      "execution_count": null,
      "metadata": {
        "id": "gxItywlC1jx5"
      },
      "outputs": [],
      "source": [
        "#total number of items and their sales\n",
        "\n",
        "Total_it_sale=df.groupby('item',as_index=False)['sales'].sum()\n",
        "Total_it_sale.head(2)"
      ]
    },
    {
      "cell_type": "code",
      "execution_count": null,
      "metadata": {
        "id": "fAebrUWuMqSE"
      },
      "outputs": [],
      "source": [
        "#Item wise Sales\n",
        "\n",
        "fig1= px.bar(Total_it_sale, x=\"item\", y=\"sales\",color=\"item\", title=\"Item wise Sales\",text_auto=True)\n",
        "fig1.update_layout(xaxis = dict(tickmode = 'linear' ))\n",
        "fig1.show()"
      ]
    },
    {
      "cell_type": "code",
      "execution_count": null,
      "metadata": {
        "id": "8cZWAFSRi_ru"
      },
      "outputs": [],
      "source": [
        "fig = px.box(df, x=\"item\", y=\"sales\", title=\"Item Wise Sales\",color='item')\n",
        "fig.update_layout(xaxis = dict(tickmode = 'linear' ))\n",
        "fig.show()"
      ]
    },
    {
      "cell_type": "markdown",
      "source": [
        "#Item to be analysed"
      ],
      "metadata": {
        "id": "1mF4CLYTO8UZ"
      }
    },
    {
      "cell_type": "code",
      "source": [
        "x=int(input('Enter the Item Number (1 to 50) : \\t'))\n",
        "\n",
        "df_ite=df[df['item'] == x]"
      ],
      "metadata": {
        "id": "p5EQNoeIPCkg"
      },
      "execution_count": null,
      "outputs": []
    },
    {
      "cell_type": "code",
      "source": [
        "df_ite"
      ],
      "metadata": {
        "id": "xn1c0wgWUpC2"
      },
      "execution_count": null,
      "outputs": []
    },
    {
      "cell_type": "code",
      "source": [
        "df_item=df_item.groupby(['date', 'day_of_week', 'day_of_month','day_of_year', 'week_of_year', 'month', 'year', 'is_weekend','is_month_start', 'is_month_end', 'Fiscal Quarter', 'Fiscal Year','season'])['sales'].sum().reset_index()"
      ],
      "metadata": {
        "id": "A3YiMvPnPtBt"
      },
      "execution_count": 285,
      "outputs": []
    },
    {
      "cell_type": "code",
      "source": [
        "df_item.set_index('date',inplace=True)\n",
        "df_item"
      ],
      "metadata": {
        "id": "jYVnLIYLU9NF"
      },
      "execution_count": null,
      "outputs": []
    },
    {
      "cell_type": "markdown",
      "metadata": {
        "id": "WrIfuMe96cUh"
      },
      "source": [
        "##Sales statistics  - Calender Year Wise"
      ]
    },
    {
      "cell_type": "code",
      "execution_count": null,
      "metadata": {
        "id": "gGvk6yKq6cUi"
      },
      "outputs": [],
      "source": [
        "x=int(input('Enter the Calender Year : \\t'))\n",
        "\n",
        "df_year=df_item.loc[df_item['year'] == x, ['sales','year']]\n",
        "\n",
        "a=df_year['sales'].mean()\n",
        "b=df_year['sales'].median()\n",
        "c=df_year['sales'].std()\n",
        "print(f'\\n1. The mean sales is {a}.\\n')\n",
        "print(f'1. The median sales is {b}.\\n')\n",
        "print(f'1. The standard daviation of sales is {c}.\\n')"
      ]
    },
    {
      "cell_type": "code",
      "execution_count": null,
      "metadata": {
        "id": "c2aTZ8_6PGWe"
      },
      "outputs": [],
      "source": [
        "#Yearly Total sales\n",
        "\n",
        "Total_Yearly_sale=df_item.groupby('year',as_index=False)['sales'].sum()\n",
        "Yearly_Perc_sales_change=Total_Yearly_sale['sales'].pct_change()\n",
        "Yearly_Perc_sales_change.drop(0,inplace=True)\n",
        "YOY_Sales = px.bar(Total_Yearly_sale,x='year',y='sales', title=\"Total Yearly Sales\",color='year',text_auto=True)\n",
        "YOY_Sales"
      ]
    },
    {
      "cell_type": "code",
      "execution_count": null,
      "metadata": {
        "id": "E1liMT8yf3sg"
      },
      "outputs": [],
      "source": [
        "fig = px.box(df_item, x=\"year\", y=\"sales\", title=\"Yearly sales\",color='year')\n",
        "fig.show()"
      ]
    },
    {
      "cell_type": "code",
      "execution_count": null,
      "metadata": {
        "id": "G6iwz2oPQdIE"
      },
      "outputs": [],
      "source": [
        "fig = px.bar(Yearly_Perc_sales_change*100, title=\"Percentage change in sales Year-over-Year\",color='value',text_auto=True)\n",
        "fig.update_layout(xaxis = dict(tickmode = 'array',tickvals = [1,2,3,4],ticktext = ['2013 -2014', '2014 -2015', '2015 -2016', '2016 -2017']))\n",
        "fig.show()"
      ]
    },
    {
      "cell_type": "markdown",
      "metadata": {
        "id": "6h6XuVdv5t3d"
      },
      "source": [
        "##Sales statistics  - Fiscal Year Wise"
      ]
    },
    {
      "cell_type": "code",
      "execution_count": null,
      "metadata": {
        "id": "ELjq1ivQvoco"
      },
      "outputs": [],
      "source": [
        "x=input('Enter the Fiscal Year : \\t')\n",
        "\n",
        "df_fyear=df_item.loc[df_item['Fiscal Year'] == x, ['sales','Fiscal Year']]\n",
        "\n",
        "a=df_fyear['sales'].mean()\n",
        "b=df_fyear['sales'].median()\n",
        "c=df_fyear['sales'].std()\n",
        "print(f'\\n1. The mean sales is {a}.\\n')\n",
        "print(f'1. The median sales is {b}.\\n')\n",
        "print(f'1. The standard daviation of sales is {c}.\\n')"
      ]
    },
    {
      "cell_type": "code",
      "execution_count": null,
      "metadata": {
        "id": "iWpD3BNQYLfn"
      },
      "outputs": [],
      "source": [
        "#Fiscal Yearly Total sales\n",
        "\n",
        "Total_Fiscal_Yearly_sale=df_item.groupby('Fiscal Year',as_index=False)['sales'].sum()\n",
        "FYearly_Perc_sales_change=Total_Fiscal_Yearly_sale['sales'].pct_change()\n",
        "FYearly_Perc_sales_change.drop(0,inplace=True)\n",
        "FYoFY_Sales = px.bar(Total_Fiscal_Yearly_sale,x='Fiscal Year',y='sales', title=\"Total Fiscal Yearly Sales\",color='Fiscal Year')\n",
        "FYoFY_Sales"
      ]
    },
    {
      "cell_type": "code",
      "execution_count": null,
      "metadata": {
        "id": "KI5uXYOsDLMG"
      },
      "outputs": [],
      "source": [
        "fig = px.box(df_item, x=\"Fiscal Year\", y=\"sales\", title=\"Fiscal Yearly sales\",color='Fiscal Year')\n",
        "fig.show()"
      ]
    },
    {
      "cell_type": "code",
      "execution_count": null,
      "metadata": {
        "id": "FUT7PCf2linR"
      },
      "outputs": [],
      "source": [
        "fig = px.bar(FYearly_Perc_sales_change*100, title=\"Percentage change in sales Fiscal Year-over-Year\",color='value',text_auto=True)\n",
        "fig.update_layout(xaxis = dict(tickmode = 'linear' ))\n",
        "fig.show()"
      ]
    },
    {
      "cell_type": "markdown",
      "metadata": {
        "id": "nYVg7VUA-8A9"
      },
      "source": [
        "##Sales statistics  - Fiscal Quarter Wise"
      ]
    },
    {
      "cell_type": "code",
      "execution_count": null,
      "metadata": {
        "id": "0f5INVcX-8A9"
      },
      "outputs": [],
      "source": [
        "x=int(input('Enter the Fiscal Quarter (1 to 4): \\t'))\n",
        "\n",
        "df_fquarter=df_item.loc[df_item['Fiscal Quarter'] == x, ['sales','Fiscal Quarter']]\n",
        "\n",
        "a=df_fquarter['sales'].mean()\n",
        "b=df_fquarter['sales'].median()\n",
        "c=df_fquarter['sales'].std()\n",
        "print(f'\\n1. The mean sales is {a}.\\n')\n",
        "print(f'1. The median sales is {b}.\\n')\n",
        "print(f'1. The standard daviation of sales is {c}.\\n')"
      ]
    },
    {
      "cell_type": "code",
      "execution_count": null,
      "metadata": {
        "id": "h0lFyhnTcCLS"
      },
      "outputs": [],
      "source": [
        "#Fiscal Quarterly Total sales\n",
        "\n",
        "Total_Fiscal_Quarterly_sale=df_item.groupby('Fiscal Quarter',as_index=False)['sales'].sum()\n",
        "Quarterly_Perc_sales_change=Total_Fiscal_Quarterly_sale['sales'].pct_change()\n",
        "Quarterly_Perc_sales_change.drop(0,inplace=True)\n",
        "QoQ_Sales = px.pie(Total_Fiscal_Quarterly_sale,values='sales',names='Fiscal Quarter', title=\"Total Fiscal Quarterly Sales\",color='Fiscal Quarter')\n",
        "QoQ_Sales"
      ]
    },
    {
      "cell_type": "code",
      "execution_count": null,
      "metadata": {
        "id": "Ig0Bl_UtDUID"
      },
      "outputs": [],
      "source": [
        "fig = px.box(df_item, x=\"Fiscal Quarter\", y=\"sales\", title=\"Fiscal Quarterly sales\",color='Fiscal Quarter')\n",
        "fig.update_layout(xaxis = dict(tickmode = 'linear' ))\n",
        "fig.show()"
      ]
    },
    {
      "cell_type": "code",
      "execution_count": null,
      "metadata": {
        "id": "S2zL3yt_mNqQ"
      },
      "outputs": [],
      "source": [
        "fig = px.bar(Quarterly_Perc_sales_change*100, title=\"Percentage change in sales Fiscal Quarter-over-Quarter\",color='value',text_auto=True)\n",
        "fig.update_layout(xaxis = dict(tickmode = 'linear' ))\n",
        "fig.show()"
      ]
    },
    {
      "cell_type": "markdown",
      "metadata": {
        "id": "neK7yyJA4u3A"
      },
      "source": [
        "##Sales statistics  - MonthWise"
      ]
    },
    {
      "cell_type": "code",
      "execution_count": null,
      "metadata": {
        "id": "wAZ7RqwK4u3C"
      },
      "outputs": [],
      "source": [
        "x=int(input('Enter the Calender Month (1 to 12) : \\t'))\n",
        "\n",
        "df_month=df_item.loc[df_item['month'] == x, ['sales','month']]\n",
        "\n",
        "a=df_month['sales'].mean()\n",
        "b=df_month['sales'].median()\n",
        "c=df_month['sales'].std()\n",
        "print(f'\\n1. The mean sales is {a}.\\n')\n",
        "print(f'1. The median sales is {b}.\\n')\n",
        "print(f'1. The standard daviation of sales is {c}.\\n')"
      ]
    },
    {
      "cell_type": "code",
      "execution_count": null,
      "metadata": {
        "id": "ci_-xmNY4u3D"
      },
      "outputs": [],
      "source": [
        "#Monthly Total sales\n",
        "\n",
        "Total_Monthly_sale=df_item.groupby('month',as_index=False)['sales'].sum()\n",
        "Monthly_Perc_sales_change=Total_Monthly_sale['sales'].pct_change()\n",
        "Monthly_Perc_sales_change.drop(0,inplace=True)\n",
        "MOM_Sales = px.bar(Total_Monthly_sale,x='month',y='sales', title=\"Total Monthly Sales\",color='month',text_auto=True)\n",
        "MOM_Sales"
      ]
    },
    {
      "cell_type": "code",
      "execution_count": null,
      "metadata": {
        "id": "OGqQcYQ-4u3E"
      },
      "outputs": [],
      "source": [
        "fig = px.box(df_item, x=\"month\", y=\"sales\", title=\"Monthly sales\",color='month')\n",
        "fig.show()"
      ]
    },
    {
      "cell_type": "code",
      "execution_count": null,
      "metadata": {
        "id": "I9rpYXiQ4u3E"
      },
      "outputs": [],
      "source": [
        "fig = px.bar(Monthly_Perc_sales_change*100, title=\"Percentage change in sales Month-over-Month\",color='value',text_auto=True)\n",
        "fig.update_layout(xaxis = dict(tickmode = 'array'))\n",
        "fig.show()"
      ]
    },
    {
      "cell_type": "markdown",
      "metadata": {
        "id": "0C_fL2CLT2sg"
      },
      "source": [
        "##Sales statistics  - Week of Year Wise"
      ]
    },
    {
      "cell_type": "code",
      "execution_count": null,
      "metadata": {
        "id": "H7rYorrvT2sg"
      },
      "outputs": [],
      "source": [
        "x=int(input('Enter the Week of Year : \\t'))\n",
        "\n",
        "df_weeky=df_item.loc[df_item['week_of_year'] == x, ['sales','week_of_year']]\n",
        "\n",
        "a=df_weeky['sales'].mean()\n",
        "b=df_weeky['sales'].median()\n",
        "c=df_weeky['sales'].std()\n",
        "print(f'\\n1. The mean sales is {a}.\\n')\n",
        "print(f'1. The median sales is {b}.\\n')\n",
        "print(f'1. The standard daviation of sales is {c}.\\n')"
      ]
    },
    {
      "cell_type": "code",
      "execution_count": null,
      "metadata": {
        "id": "yqGEZ9YST2sg"
      },
      "outputs": [],
      "source": [
        "#Weekly Total sales\n",
        "\n",
        "Total_Weekly_sale=df_item.groupby('week_of_year',as_index=False)['sales'].sum()\n",
        "Weekly_Perc_sales_change=Total_Weekly_sale['sales'].pct_change()\n",
        "Weekly_Perc_sales_change.drop(0,inplace=True)\n",
        "WOW_Sales = px.bar(Total_Weekly_sale,x='week_of_year',y='sales', title=\"Total Weekly Sales\",color='week_of_year',text_auto=True)\n",
        "WOW_Sales"
      ]
    },
    {
      "cell_type": "code",
      "execution_count": null,
      "metadata": {
        "id": "oPB2tJ97T2sg"
      },
      "outputs": [],
      "source": [
        "fig = px.box(df_item, x=\"week_of_year\", y=\"sales\", title=\"Weekly sales\",color='week_of_year')\n",
        "fig.show()"
      ]
    },
    {
      "cell_type": "code",
      "execution_count": null,
      "metadata": {
        "id": "pirT8WP3T2sh"
      },
      "outputs": [],
      "source": [
        "fig = px.bar(Weekly_Perc_sales_change*100, title=\"Percentage change in sales Week-over-Week\",color='value',text_auto=True)\n",
        "fig.update_layout(xaxis = dict(tickmode = 'array'))\n",
        "fig.show()"
      ]
    },
    {
      "cell_type": "markdown",
      "metadata": {
        "id": "o9-92rVERuYY"
      },
      "source": [
        "##Sales statistics  - Day of year Wise"
      ]
    },
    {
      "cell_type": "code",
      "execution_count": null,
      "metadata": {
        "id": "gF3BC-g-RuYa"
      },
      "outputs": [],
      "source": [
        "x=int(input('Enter the Day of year (1 to 365) : \\t'))\n",
        "\n",
        "df_dayy=df_item.loc[df_item['day_of_year'] == x, ['sales','day_of_year']]\n",
        "\n",
        "a=df_dayy['sales'].mean()\n",
        "b=df_dayy['sales'].median()\n",
        "c=df_dayy['sales'].std()\n",
        "print(f'\\n1. The mean sales is {a}.\\n')\n",
        "print(f'1. The median sales is {b}.\\n')\n",
        "print(f'1. The standard daviation of sales is {c}.\\n')"
      ]
    },
    {
      "cell_type": "code",
      "execution_count": null,
      "metadata": {
        "id": "fYnQxrF5RuYc"
      },
      "outputs": [],
      "source": [
        "#Daily Total sales\n",
        "\n",
        "Daily_sale=df_item.groupby('day_of_year',as_index=False)['sales'].sum()\n",
        "Daily_Perc_sales_change=Daily_sale['sales'].pct_change()\n",
        "Daily_Perc_sales_change.drop(0,inplace=True)\n",
        "Daily_Sales = px.bar(Daily_sale,x='day_of_year',y='sales', title='Total Daily Sales',color='day_of_year')\n",
        "Daily_Sales.update_layout(xaxis = dict(tickmode = 'linear' ))\n",
        "Daily_Sales"
      ]
    },
    {
      "cell_type": "code",
      "execution_count": null,
      "metadata": {
        "id": "ou9MnxTGRuYc"
      },
      "outputs": [],
      "source": [
        "fig = px.box(df_item, x=\"day_of_year\", y=\"sales\", title=\"Day Wise Sales\",color='day_of_year')\n",
        "fig.update_layout(xaxis = dict(tickmode = 'linear' ))\n",
        "fig.show()"
      ]
    },
    {
      "cell_type": "code",
      "source": [
        "fig = px.bar(Daily_Perc_sales_change*100, title=\"Percentage change in sales Day-Over-Day\",color='value',text_auto=True)\n",
        "fig.update_layout(xaxis = dict(tickmode = 'array'))\n",
        "fig.show()"
      ],
      "metadata": {
        "id": "nfHun_atbEIW"
      },
      "execution_count": null,
      "outputs": []
    },
    {
      "cell_type": "markdown",
      "metadata": {
        "id": "Al2GrURU_cZH"
      },
      "source": [
        "##Sales statistics  - Day of Month Wise"
      ]
    },
    {
      "cell_type": "code",
      "execution_count": null,
      "metadata": {
        "id": "vLAcLhfn_cZh"
      },
      "outputs": [],
      "source": [
        "x=int(input('Enter the Day of Month (1 to 31) : \\t'))\n",
        "\n",
        "df_daym=df_item.loc[df_item['day_of_month'] == x, ['sales','day_of_month']]\n",
        "\n",
        "a=df_daym['sales'].mean()\n",
        "b=df_daym['sales'].median()\n",
        "c=df_daym['sales'].std()\n",
        "print(f'\\n1. The mean sales is {a}.\\n')\n",
        "print(f'1. The median sales is {b}.\\n')\n",
        "print(f'1. The standard daviation of sales is {c}.\\n')"
      ]
    },
    {
      "cell_type": "code",
      "execution_count": null,
      "metadata": {
        "id": "rn1w5vg5f5iG"
      },
      "outputs": [],
      "source": [
        "#Daily Total sales\n",
        "\n",
        "Daily_sale=df_item.groupby('day_of_month',as_index=False)['sales'].sum()\n",
        "Daily_Perc_sales_change=Daily_sale['sales'].pct_change()\n",
        "Daily_Perc_sales_change.drop(0,inplace=True)\n",
        "Daily_Sales = px.bar(Daily_sale,x='day_of_month',y='sales', title='Total Daily Sales',color='day_of_month')\n",
        "Daily_Sales.update_layout(xaxis = dict(tickmode = 'linear' ))\n",
        "Daily_Sales"
      ]
    },
    {
      "cell_type": "code",
      "execution_count": null,
      "metadata": {
        "id": "lsqwKaQ6NKH-"
      },
      "outputs": [],
      "source": [
        "fig = px.box(df_item, x=\"day_of_month\", y=\"sales\", title=\"Day Wise Sales\",color='day_of_month')\n",
        "fig.update_layout(xaxis = dict(tickmode = 'linear' ))\n",
        "fig.show()"
      ]
    },
    {
      "cell_type": "code",
      "source": [
        "fig = px.bar(Daily_Perc_sales_change*100, title=\"Percentage change in sales Day-Over-Day\",color='value',text_auto=True)\n",
        "fig.update_layout(xaxis = dict(tickmode = 'array'))\n",
        "fig.show()"
      ],
      "metadata": {
        "id": "wGnNL-xFbRSy"
      },
      "execution_count": null,
      "outputs": []
    },
    {
      "cell_type": "markdown",
      "metadata": {
        "id": "vbo9uQsouqcy"
      },
      "source": [
        "##Sales statistics  - Week Day Wise"
      ]
    },
    {
      "cell_type": "code",
      "execution_count": null,
      "metadata": {
        "id": "RrLm6t5ruqcz"
      },
      "outputs": [],
      "source": [
        "x=int(input('Enter the Day of Week (0 to 6): \\t'))\n",
        "\n",
        "df_dayw=df_item.loc[df_item['day_of_week'] == x, ['sales','day_of_week']]\n",
        "\n",
        "a=df_dayw['sales'].mean()\n",
        "b=df_dayw['sales'].median()\n",
        "c=df_dayw['sales'].std()\n",
        "print(f'\\n1. The mean sales is {a}.\\n')\n",
        "print(f'1. The median sales is {b}.\\n')\n",
        "print(f'1. The standard daviation of sales is {c}.\\n')"
      ]
    },
    {
      "cell_type": "code",
      "execution_count": null,
      "metadata": {
        "id": "BCyfXfs3uqc0"
      },
      "outputs": [],
      "source": [
        "#Daily Total sales\n",
        "\n",
        "Daily_sale=df_item.groupby('day_of_week',as_index=False)['sales'].sum()\n",
        "Daily_Perc_sales_change=Daily_sale['sales'].pct_change()\n",
        "Daily_Perc_sales_change.drop(0,inplace=True)\n",
        "Daily_Sales = px.bar(Daily_sale,x='day_of_week',y='sales', title='Total Daily Sales',color='day_of_week')\n",
        "Daily_Sales.update_layout(xaxis = dict(tickmode = 'linear' ))\n",
        "Daily_Sales"
      ]
    },
    {
      "cell_type": "code",
      "execution_count": null,
      "metadata": {
        "id": "Age44ENWuqc1"
      },
      "outputs": [],
      "source": [
        "fig = px.box(df_item, x=\"day_of_week\", y=\"sales\", title=\"Day Wise Sales\",color='day_of_week')\n",
        "fig.update_layout(xaxis = dict(tickmode = 'linear' ))\n",
        "fig.show()"
      ]
    },
    {
      "cell_type": "code",
      "execution_count": null,
      "metadata": {
        "id": "RubURWRzuqc1"
      },
      "outputs": [],
      "source": [
        "fig = px.bar(Daily_Perc_sales_change*100, title=\"Percentage change in sales Day-Over-Day\",color='value',text_auto=True)\n",
        "fig.update_layout(xaxis = dict(tickmode = 'array'))\n",
        "fig.show()"
      ]
    },
    {
      "cell_type": "markdown",
      "source": [
        "- It can be observed that the sales on Friday Saturday and Sunday are higher compared to other days of week, with the maximum sales comes on Sunday."
      ],
      "metadata": {
        "id": "WjKg_vLqqhDb"
      }
    },
    {
      "cell_type": "markdown",
      "metadata": {
        "id": "r_8GqcdAVEQd"
      },
      "source": [
        "##Sales statistics  - Season Wise"
      ]
    },
    {
      "cell_type": "code",
      "execution_count": null,
      "metadata": {
        "id": "bKxDX1U_VEQd"
      },
      "outputs": [],
      "source": [
        "x=int(input('Enter the Season (0: Winter , 1: Autumn , 2: Summer , 3: Fall) : \\t'))\n",
        "\n",
        "df_season=df_item.loc[df_item['season'] == x, ['sales','season']]\n",
        "\n",
        "a=df_season['sales'].mean()\n",
        "b=df_season['sales'].median()\n",
        "c=df_season['sales'].std()\n",
        "print(f'\\n1. The mean sales is {a}.\\n')\n",
        "print(f'1. The median sales is {b}.\\n')\n",
        "print(f'1. The standard daviation of sales is {c}.\\n')"
      ]
    },
    {
      "cell_type": "code",
      "execution_count": null,
      "metadata": {
        "id": "ZSfd5gwWVEQe"
      },
      "outputs": [],
      "source": [
        "#total number of store and their sales\n",
        "\n",
        "Total_season_sale=df_item.groupby('season',as_index=False)['sales'].sum()\n",
        "Total_season_sale.head()"
      ]
    },
    {
      "cell_type": "code",
      "execution_count": null,
      "metadata": {
        "id": "_xNE5MEAVEQe"
      },
      "outputs": [],
      "source": [
        "#season wise sales\n",
        "\n",
        "fig = px.bar(Total_season_sale, x=\"season\", y=\"sales\",color=\"season\", title=\"Seasonal Sales\",text_auto=True)\n",
        "fig.update_layout(xaxis = dict(tickmode = 'array',tickvals = [0,1,2,3],ticktext = ['Winter','Autumn','Summer','Fall']))\n",
        "fig.show()"
      ]
    },
    {
      "cell_type": "markdown",
      "source": [
        "- It can be observed that the sales folows the seasonal trend with least sales in winter, while the maximum sales are from fall(Monson)."
      ],
      "metadata": {
        "id": "NvGPJrhSq2Ph"
      }
    },
    {
      "cell_type": "code",
      "execution_count": null,
      "metadata": {
        "id": "5eMIRZjtVEQf"
      },
      "outputs": [],
      "source": [
        "fig = px.box(df_item, x=\"season\", y=\"sales\", title=\"Seasonal Sales\",color='season')\n",
        "fig.update_layout(xaxis = dict(tickmode = 'array',tickvals = [0,1,2,3],ticktext = ['Winter','Autumn','Summer','Fall']))\n",
        "fig.show()"
      ]
    },
    {
      "cell_type": "markdown",
      "source": [
        "- Highest sales are from Fall season."
      ],
      "metadata": {
        "id": "pWnzKvIHYJus"
      }
    },
    {
      "cell_type": "markdown",
      "metadata": {
        "id": "th0Hf6Ky7pW1"
      },
      "source": [
        "##Sales statistics  - Store Wise"
      ]
    },
    {
      "cell_type": "code",
      "execution_count": null,
      "metadata": {
        "id": "ZlqRLsFA7pW2"
      },
      "outputs": [],
      "source": [
        "x=int(input('Enter the Store Number (1 to 10) : \\t'))\n",
        "\n",
        "df_store=df_item.loc[df_item['store'] == x, ['sales','store']]\n",
        "\n",
        "a=df_store['sales'].mean()\n",
        "b=df_store['sales'].median()\n",
        "c=df_store['sales'].std()\n",
        "print(f'\\n1. The mean sales is {a}.\\n')\n",
        "print(f'1. The median sales is {b}.\\n')\n",
        "print(f'1. The standard daviation of sales is {c}.\\n')"
      ]
    },
    {
      "cell_type": "code",
      "execution_count": null,
      "metadata": {
        "id": "x3WeQuWd2jRE"
      },
      "outputs": [],
      "source": [
        "#total number of store and their sales\n",
        "\n",
        "Total_store_sale=df_item.groupby('store',as_index=False)['sales'].sum()\n",
        "Total_store_sale.head(2)"
      ]
    },
    {
      "cell_type": "code",
      "execution_count": null,
      "metadata": {
        "id": "3baPEWb0xJiD"
      },
      "outputs": [],
      "source": [
        "#store wise sales\n",
        "\n",
        "fig = px.bar(Total_store_sale, x=\"store\", y=\"sales\",color=\"store\", title=\"Store wise Sales\",text_auto=True)\n",
        "fig.update_layout(xaxis = dict(tickmode = 'linear' ))\n",
        "fig.show()"
      ]
    },
    {
      "cell_type": "code",
      "execution_count": null,
      "metadata": {
        "id": "xVnTS_JEiqU7"
      },
      "outputs": [],
      "source": [
        "fig = px.box(df_item, x=\"store\", y=\"sales\", title=\"Store Wise Sales\",color='store')\n",
        "fig.update_layout(xaxis = dict(tickmode = 'linear' ))\n",
        "fig.show()"
      ]
    },
    {
      "cell_type": "code",
      "source": [
        "#90 day rolling sum of sales\n",
        "df_roll=df_item.groupby(['date'])['sales'].sum()\n",
        "df_roll=df_roll.to_frame()\n",
        "df_roll['90days sales']=df_roll['sales'].rolling(90).sum().shift(-89)\n",
        "df_roll.dropna()\n",
        "df_roll.drop(['sales'],axis=1,inplace=True)\n",
        "df_roll.plot(figsize=(12,4),title=('90 days rolling sales'))"
      ],
      "metadata": {
        "id": "dl60nLajgQuo"
      },
      "execution_count": null,
      "outputs": []
    },
    {
      "cell_type": "markdown",
      "metadata": {
        "id": "6jlyYZgsEbEz"
      },
      "source": [
        "#Machine Learning Algorithm"
      ]
    },
    {
      "cell_type": "code",
      "source": [
        "df_item.columns"
      ],
      "metadata": {
        "id": "6CXmKDwG6PBb"
      },
      "execution_count": null,
      "outputs": []
    },
    {
      "cell_type": "code",
      "source": [
        "#add 90 days rolling mean sales to predict future sales for next 3 months\n",
        "\n",
        "df_item['90 days sales']=df_item['sales'].rolling(90).sum().shift(-89)"
      ],
      "metadata": {
        "id": "tfuBsCPHzMdV"
      },
      "execution_count": 410,
      "outputs": []
    },
    {
      "cell_type": "code",
      "source": [
        "df_item.dropna(inplace=True)\n",
        "df_item"
      ],
      "metadata": {
        "id": "waal5bkEF3sK"
      },
      "execution_count": null,
      "outputs": []
    },
    {
      "cell_type": "code",
      "source": [
        "#select features and target\n",
        "x=df_item.drop(columns=['sales','Fiscal Year','week_of_year','day_of_year','90 days sales','day_of_week','is_weekend','is_month_start', 'is_month_end'])\n",
        "y=df_item['90 days sales']\n",
        "\n",
        "#split  train and test data\n",
        "#split test:train in ratio 80:20\n",
        "\n",
        "x_train=x.iloc[:int(x.shape[0]*0.8)]\n",
        "x_test=x.iloc[int(x.shape[0]*0.8):]\n",
        "\n",
        "y_train=y.iloc[:int(x.shape[0]*0.8)]\n",
        "y_test=y.iloc[int(x.shape[0]*0.8):]"
      ],
      "metadata": {
        "id": "RVLrmwUR8dVB"
      },
      "execution_count": 412,
      "outputs": []
    },
    {
      "cell_type": "markdown",
      "source": [
        "- Data is split as 80% for training and 20% for testing."
      ],
      "metadata": {
        "id": "qSJoCoGBGxdX"
      }
    },
    {
      "cell_type": "markdown",
      "source": [
        "##ML Algorithm"
      ],
      "metadata": {
        "id": "v4EXZN8aaw82"
      }
    },
    {
      "cell_type": "code",
      "source": [
        "def predict_plot(model,title):\n",
        "    model.fit(x_train,y_train)\n",
        "    pred=model.predict(x_test)\n",
        "    yt=y_test.to_frame()\n",
        "    yt['prediction']=pred\n",
        "    yt.plot(ylabel='sales',title=title)\n",
        "    print('The r2 score achieved using '+title+' is',r2_score(y_test,pred))"
      ],
      "metadata": {
        "id": "09-Po_heHeL2"
      },
      "execution_count": 414,
      "outputs": []
    },
    {
      "cell_type": "code",
      "source": [
        "from sklearn.linear_model import LinearRegression\n",
        "from sklearn.neighbors import KNeighborsRegressor\n",
        "knn = KNeighborsRegressor(n_neighbors=5)\n",
        "from sklearn.ensemble import RandomForestRegressor\n",
        "from sklearn.tree import DecisionTreeRegressor\n",
        "import xgboost as xgb\n",
        "xgb=xgb.XGBRegressor()\n",
        "from sklearn.ensemble import AdaBoostRegressor\n",
        "\n",
        "predict_plot(LinearRegression(),'LinearRegression')\n",
        "predict_plot(knn,'KNeighborsRegression')\n",
        "predict_plot(DecisionTreeRegressor(),'DecisionTree')\n",
        "predict_plot(xgb,'XGBoost')\n",
        "predict_plot(AdaBoostRegressor(),'AdaBoostRegressor')\n",
        "predict_plot(RandomForestRegressor(),'RandomForest')"
      ],
      "metadata": {
        "id": "w815QeDPHhLq"
      },
      "execution_count": null,
      "outputs": []
    },
    {
      "cell_type": "markdown",
      "source": [
        "- Best Machine Learning Model is Random Forest Regressor with r2 above 95%"
      ],
      "metadata": {
        "id": "9_nfO0Ujfwtd"
      }
    },
    {
      "cell_type": "markdown",
      "source": [
        "#Feature Importance"
      ],
      "metadata": {
        "id": "aMkQId_6dwfn"
      }
    },
    {
      "cell_type": "code",
      "source": [
        "classifier = RandomForestRegressor(n_estimators = 100, random_state = 0)\n",
        "classifier.fit(x_train,y_train)\n",
        "feature_scores = pd.Series(classifier.feature_importances_,index=x_train.columns).sort_values(ascending=False)\n",
        "feature_scores = feature_scores*100\n",
        "feature_scores"
      ],
      "metadata": {
        "id": "e_ZKbQpAL4Si"
      },
      "execution_count": null,
      "outputs": []
    },
    {
      "cell_type": "code",
      "source": [
        "#plotting the feature importance\n",
        "plt.figure(figsize=(8,8))\n",
        "sns.barplot(x=feature_scores,y=feature_scores.index)"
      ],
      "metadata": {
        "id": "498WQ8vBLiVQ"
      },
      "execution_count": null,
      "outputs": []
    },
    {
      "cell_type": "markdown",
      "source": [
        "Above Bar plot shows the feature importance for predicting the sales."
      ],
      "metadata": {
        "id": "ZUogSaho7s2J"
      }
    },
    {
      "cell_type": "markdown",
      "source": [
        "#Dimentionality Reduction - PCA"
      ],
      "metadata": {
        "id": "7cNuLTDSiqph"
      }
    },
    {
      "cell_type": "code",
      "source": [
        "from sklearn.decomposition import PCA\n",
        "pca= PCA()\n",
        "pca.fit(x_train)\n",
        "cumsum = np.cumsum(pca.explained_variance_ratio_)\n",
        "dim = np.argmax(cumsum >= 0.90) + 1\n",
        "print('The number of dimensions required to preserve 90% of variance is',dim)"
      ],
      "metadata": {
        "id": "MzV8bE37iLWg"
      },
      "execution_count": null,
      "outputs": []
    },
    {
      "cell_type": "code",
      "source": [
        "plt.figure(figsize=(8,6))\n",
        "plt.plot(np.cumsum(pca.explained_variance_ratio_))\n",
        "plt.xlim(0,14,1)\n",
        "plt.xlabel('Number of components')\n",
        "plt.ylabel('Cumulative explained variance')\n",
        "plt.show()"
      ],
      "metadata": {
        "id": "RxLvOvhOjFv7"
      },
      "execution_count": null,
      "outputs": []
    },
    {
      "cell_type": "markdown",
      "source": [
        "##PCA with Random Forest"
      ],
      "metadata": {
        "id": "Fj4GqWMFjc5V"
      }
    },
    {
      "cell_type": "code",
      "source": [
        "pca=PCA(n_components=4)  \n",
        "x_new=pca.fit_transform(x_train)\n",
        "x_new\n",
        "x_te=pca.fit_transform(x_test)\n",
        "x_te\n",
        "pca.explained_variance_ratio_"
      ],
      "metadata": {
        "colab": {
          "base_uri": "https://localhost:8080/"
        },
        "id": "ZKyUkpkVkRaa",
        "outputId": "5cebf129-d0f6-448a-844e-8bddc9011aef"
      },
      "execution_count": 369,
      "outputs": [
        {
          "output_type": "execute_result",
          "data": {
            "text/plain": [
              "array([0.84349297, 0.12782849, 0.02396308, 0.00450403])"
            ]
          },
          "metadata": {},
          "execution_count": 369
        }
      ]
    },
    {
      "cell_type": "code",
      "source": [
        "from sklearn.ensemble import RandomForestRegressor\n",
        "\n",
        "classifier = RandomForestRegressor(n_estimators = 10, random_state = 0)\n",
        "classifier.fit(x_new,y_train)\n",
        "\n",
        "#model score\n",
        "Random_score=classifier.score(x_te,y_test)\n",
        "print('\\nRandom forest model score : \\t', Random_score*100,' %')\n",
        "\n",
        "#predict y using x as input for the model\n",
        "y_pred = classifier.predict(x_te)\n",
        "\n",
        "#error metrices\n",
        "r2_score(y_test,y_pred)"
      ],
      "metadata": {
        "colab": {
          "base_uri": "https://localhost:8080/"
        },
        "id": "RKEqq3vzjc5W",
        "outputId": "fc1aae11-4094-4055-a53a-6df3049a3417"
      },
      "execution_count": 370,
      "outputs": [
        {
          "output_type": "stream",
          "name": "stdout",
          "text": [
            "\n",
            "Random forest model score : \t 31.838155463298136  %\n"
          ]
        },
        {
          "output_type": "execute_result",
          "data": {
            "text/plain": [
              "0.31838155463298135"
            ]
          },
          "metadata": {},
          "execution_count": 370
        }
      ]
    },
    {
      "cell_type": "markdown",
      "source": [
        "- The PCA analysis is not suitable for the preesent case as it has very low r2 score(i.e 31%)"
      ],
      "metadata": {
        "id": "00mCdcFOhDsV"
      }
    },
    {
      "cell_type": "markdown",
      "source": [
        "#Predicting Future Sales"
      ],
      "metadata": {
        "id": "yde_t8dRid8a"
      }
    },
    {
      "cell_type": "code",
      "source": [
        "x=int(input('Enter the Item Number (1 to 50) : \\t'))\n",
        "\n",
        "df_ite=df[df['item'] == x]\n",
        "df_item=df_item.groupby(['date', 'day_of_week', 'day_of_month','day_of_year', 'week_of_year', 'month', 'year', 'is_weekend','is_month_start', 'is_month_end', 'Fiscal Quarter', 'Fiscal Year','season'])['sales'].sum().reset_index()\n",
        "df_item.set_index('date',inplace=True)\n",
        "df_item\n",
        "#add 90 days rolling mean sales to predict future sales for next 3 months\n",
        "\n",
        "df_item['90 days sales']=df_item['sales'].rolling(90).sum().shift(-89)\n",
        "df.dropna(inplace=True)\n",
        "\n",
        "#select features and target\n",
        "x=df_item.drop(columns=['sales','Fiscal Year','week_of_year','day_of_year','90 days sales','day_of_week','is_weekend','is_month_start', 'is_month_end'])\n",
        "y=df_item['90 days sales']\n",
        "\n",
        "#split  train and test data\n",
        "#split test:train in ratio 80:20\n",
        "\n",
        "x_train=x.iloc[:int(x.shape[0]*0.8)]\n",
        "x_test=x.iloc[int(x.shape[0]*0.8):]\n",
        "\n",
        "y_train=y.iloc[:int(x.shape[0]*0.8)]\n",
        "y_test=y.iloc[int(x.shape[0]*0.8):]\n",
        "\n",
        "classifier = RandomForestRegressor(n_estimators = 100, random_state = 0)\n",
        "classifier.fit(x_train,y_train)\n",
        "\n",
        "import datetime\n",
        "date_entry = input('Enter a date in YYYY-MM-DD format : \\t')\n",
        "year, month, day = map(int, date_entry.split('-'))\n",
        "date1 = datetime.date(year, month, day)\n",
        "x=[date1.day,date1.month,date1.year]\n",
        "\n",
        "if date1.month==1 or date1.month==2 or date1.month==3:\n",
        "  x.append(4)\n",
        "elif date1.month==4 or date1.month==5 or date1.month==6:\n",
        "  x.append(1)\n",
        "elif date1.month==7 or date1.month==8 or date1.month==9:\n",
        "  x.append(2)\n",
        "else:\n",
        "  x.append(3)\n",
        "\n",
        "if date1.month==12 or date1.month==1 or date1.month==2:\n",
        "  x.append(0)\n",
        "elif date1.month==10 or date1.month==11:\n",
        "  x.append(1)\n",
        "elif date1.month==3 or date1.month==4 or date1.month==5:\n",
        "  x.append(2)\n",
        "else:\n",
        "  x.append(3)\n",
        "print(f'\\nThe predicted three months sales for the date {date1} is : {round(classifier.predict([x])[0])} items.')\n",
        "\n",
        "print(f'\\nThe predicted three months sales for the date {date1} with a 10 % range is : {round(classifier.predict([x])[0]-0.1*classifier.predict([x])[0])} to {round(classifier.predict([x])[0]+0.1*classifier.predict([x])[0])} items.')\n"
      ],
      "metadata": {
        "colab": {
          "base_uri": "https://localhost:8080/"
        },
        "outputId": "ced83580-b080-49e9-c490-88f4c534c6e2",
        "id": "mo15BiehrmVm"
      },
      "execution_count": 438,
      "outputs": [
        {
          "output_type": "stream",
          "name": "stdout",
          "text": [
            "Enter the Item Number (1 to 50) : \t1\n",
            "Enter a date in YYYY-MM-DD format : \t2019-01-01\n",
            "\n",
            "The predicted three months sales for the date 2019-01-01 is : 16635 items.\n",
            "\n",
            "The predicted three months sales for the date 2019-01-01 with a 10% range is : 14971 to 18298 items.\n"
          ]
        }
      ]
    }
  ],
  "metadata": {
    "accelerator": "GPU",
    "colab": {
      "collapsed_sections": [],
      "name": "Guvi_Project_02.ipynb",
      "provenance": [],
      "authorship_tag": "ABX9TyPMXGBoc3K3+lnWCw//TuDh",
      "include_colab_link": true
    },
    "kernelspec": {
      "display_name": "Python 3",
      "name": "python3"
    },
    "language_info": {
      "name": "python"
    }
  },
  "nbformat": 4,
  "nbformat_minor": 0
}